{
 "cells": [
  {
   "cell_type": "code",
   "id": "initial_id",
   "metadata": {
    "collapsed": true,
    "ExecuteTime": {
     "end_time": "2025-03-28T14:35:51.517758Z",
     "start_time": "2025-03-28T14:35:46.176749Z"
    }
   },
   "source": "!pip install git+https://github.com//ELidsh/ChatDataLab.git",
   "outputs": [
    {
     "name": "stdout",
     "output_type": "stream",
     "text": [
      "Collecting git+https://github.com//ELidsh/ChatDataLab.git\n",
      "  Cloning https://github.com//ELidsh/ChatDataLab.git to c:\\users\\eirik\\appdata\\local\\temp\\pip-req-build-8mpawytb\n",
      "  Resolved https://github.com//ELidsh/ChatDataLab.git to commit 8bf4d6bfdaec9a3bf2d185fad157de9c62602499\n"
     ]
    },
    {
     "name": "stderr",
     "output_type": "stream",
     "text": [
      "  Running command git clone --filter=blob:none --quiet https://github.com//ELidsh/ChatDataLab.git 'C:\\Users\\eirik\\AppData\\Local\\Temp\\pip-req-build-8mpawytb'\n",
      "ERROR: git+https://github.com//ELidsh/ChatDataLab.git does not appear to be a Python project: neither 'setup.py' nor 'pyproject.toml' found.\n",
      "\n",
      "[notice] A new release of pip is available: 23.2.1 -> 25.0.1\n",
      "[notice] To update, run: python.exe -m pip install --upgrade pip\n"
     ]
    }
   ],
   "execution_count": 1
  }
 ],
 "metadata": {
  "kernelspec": {
   "display_name": "Python 3",
   "language": "python",
   "name": "python3"
  },
  "language_info": {
   "codemirror_mode": {
    "name": "ipython",
    "version": 2
   },
   "file_extension": ".py",
   "mimetype": "text/x-python",
   "name": "python",
   "nbconvert_exporter": "python",
   "pygments_lexer": "ipython2",
   "version": "2.7.6"
  }
 },
 "nbformat": 4,
 "nbformat_minor": 5
}
